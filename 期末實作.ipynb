{
  "nbformat": 4,
  "nbformat_minor": 0,
  "metadata": {
    "colab": {
      "provenance": []
    },
    "kernelspec": {
      "name": "python3",
      "display_name": "Python 3"
    },
    "language_info": {
      "name": "python"
    }
  },
  "cells": [
    {
      "cell_type": "code",
      "execution_count": 1,
      "metadata": {
        "colab": {
          "base_uri": "https://localhost:8080/"
        },
        "id": "x5QmrkeeIRh2",
        "outputId": "20427dab-d675-4643-886e-1af53fbe35dc"
      },
      "outputs": [
        {
          "output_type": "stream",
          "name": "stdout",
          "text": [
            "最低花費的旅遊方案是：B -> C -> F -> G -> D -> E -> A -> B\n",
            "總花費： 67956.7378773604 元\n"
          ]
        }
      ],
      "source": [
        "import math\n",
        "\n",
        "class City:\n",
        "    def __init__(self, name, coordinates, accommodation_cost):\n",
        "        self.name = name\n",
        "        self.coordinates = coordinates\n",
        "        self.accommodation_cost = accommodation_cost\n",
        "\n",
        "def calculate_discounted_cost(previous_city, current_city):\n",
        "    discount = 0.8\n",
        "    if previous_city.name in ['C', 'G'] and current_city.name == 'A':\n",
        "        return current_city.accommodation_cost * discount\n",
        "    elif previous_city.name in ['A', 'B'] and current_city.name == 'D':\n",
        "        return current_city.accommodation_cost * discount\n",
        "    elif previous_city.name == 'B' and current_city.name == 'E':\n",
        "        return current_city.accommodation_cost * discount\n",
        "    elif previous_city.name in ['A', 'C'] and current_city.name == 'F':\n",
        "        return current_city.accommodation_cost * discount\n",
        "    elif previous_city.name in ['E', 'F'] and current_city.name == 'G':\n",
        "        return current_city.accommodation_cost * discount\n",
        "    else:\n",
        "        return current_city.accommodation_cost\n",
        "\n",
        "def calculate_distance(city1, city2):\n",
        "    x1, y1 = city1.coordinates\n",
        "    x2, y2 = city2.coordinates\n",
        "    distance = math.sqrt((x2 - x1) ** 2 + (y2 - y1) ** 2)\n",
        "    return distance\n",
        "\n",
        "def find_cheapest_travel_plan(cities):\n",
        "    min_cost = float('inf')\n",
        "    best_route = []\n",
        "\n",
        "    for start_city in cities:\n",
        "        remaining_cities = cities.copy()\n",
        "        remaining_cities.remove(start_city)\n",
        "\n",
        "        current_route = [start_city]\n",
        "        total_cost = 0\n",
        "\n",
        "        while remaining_cities:\n",
        "            closest_city = min(remaining_cities, key=lambda city: calculate_distance(current_route[-1], city))\n",
        "            total_cost += calculate_distance(current_route[-1], closest_city) * 100\n",
        "            total_cost += calculate_discounted_cost(current_route[-1], closest_city)\n",
        "            current_route.append(closest_city)\n",
        "            remaining_cities.remove(closest_city)\n",
        "\n",
        "        total_cost += calculate_distance(current_route[-1], start_city) * 100\n",
        "\n",
        "        if total_cost < min_cost:\n",
        "            min_cost = total_cost\n",
        "            best_route = current_route\n",
        "\n",
        "    return best_route, min_cost\n",
        "\n",
        "# 建立城市物件\n",
        "A = City('A', (0, 0), 2000)\n",
        "B = City('B', (0, 120), 2400)\n",
        "C = City('C', (30, 100), 2400)\n",
        "D = City('D', (80, 0), 1600)\n",
        "E = City('E', (45, 10), 1500)\n",
        "F = City('F', (90, 160), 2200)\n",
        "G = City('G', (120, 200), 1200)\n",
        "\n",
        "cities = [A, B, C, D, E, F, G]\n",
        "\n",
        "# 找出最便宜的旅遊方案\n",
        "best_route, min_cost = find_cheapest_travel_plan(cities)\n",
        "\n",
        "# 列印結果\n",
        "print(\"最低花費的旅遊方案是：\", end=\"\")\n",
        "for city in best_route:\n",
        "    print(city.name, \"-> \", end=\"\")\n",
        "print(best_route[0].name)\n",
        "print(\"總花費：\", min_cost, \"元\")"
      ]
    }
  ]
}